{
 "cells": [
  {
   "cell_type": "code",
   "execution_count": 75,
   "metadata": {},
   "outputs": [],
   "source": [
    "import sys\n",
    "import os\n",
    "sys.path.insert(0, '/home/pvardanis/sms-tools/assignments/A1/A1_2017/A1')\n",
    "\n"
   ]
  },
  {
   "cell_type": "code",
   "execution_count": 60,
   "metadata": {},
   "outputs": [],
   "source": [
    "%reload_ext autoreload\n",
    "%autoreload 2\n"
   ]
  },
  {
   "cell_type": "code",
   "execution_count": 74,
   "metadata": {},
   "outputs": [],
   "source": [
    "import numpy as np\n",
    "import A1Part1\n",
    "import A1Part2\n",
    "import A1Part3\n",
    "import A1Part4"
   ]
  },
  {
   "cell_type": "code",
   "execution_count": 62,
   "metadata": {},
   "outputs": [
    {
     "data": {
      "text/plain": [
       "array([-0.06213569, -0.04541154, -0.02734458, -0.0093997 ,  0.00769066,\n",
       "        0.02319407,  0.03503525,  0.04309214,  0.04626606,  0.0441908 ],\n",
       "      dtype=float32)"
      ]
     },
     "execution_count": 62,
     "metadata": {},
     "output_type": "execute_result"
    }
   ],
   "source": [
    "A1Part1.readAudio('../../sounds/piano.wav')"
   ]
  },
  {
   "cell_type": "code",
   "execution_count": 66,
   "metadata": {},
   "outputs": [
    {
     "data": {
      "text/plain": [
       "array([0, 1, 2, 3, 4, 5, 6, 7, 8, 9])"
      ]
     },
     "execution_count": 66,
     "metadata": {},
     "output_type": "execute_result"
    }
   ],
   "source": [
    "x = np.arange(10)\n",
    "x"
   ]
  },
  {
   "cell_type": "code",
   "execution_count": 73,
   "metadata": {},
   "outputs": [
    {
     "data": {
      "text/plain": [
       "array([0, 2, 4, 6, 8])"
      ]
     },
     "execution_count": 73,
     "metadata": {},
     "output_type": "execute_result"
    }
   ],
   "source": [
    "A1Part3.hopSamples(x,2)"
   ]
  },
  {
   "cell_type": "code",
   "execution_count": 87,
   "metadata": {},
   "outputs": [],
   "source": [
    "A1Part4.downsampleAudio('../../sounds/vibraphone-C6.wav',16)"
   ]
  },
  {
   "cell_type": "code",
   "execution_count": 95,
   "metadata": {},
   "outputs": [
    {
     "name": "stdout",
     "output_type": "stream",
     "text": [
      "play WARN alsa: can't encode 0-bit Unknown or not applicable\n",
      "\n",
      "../../sounds/vibraphone-C6.wav:\n",
      "\n",
      " File Size: 287k      Bit Rate: 706k\n",
      "  Encoding: Signed PCM    \n",
      "  Channels: 1 @ 16-bit   \n",
      "Samplerate: 44100Hz      \n",
      "Replaygain: off         \n",
      "  Duration: 00:00:03.25  \n",
      "\n",
      "In:100%  00:00:03.25 [00:00:00.00] Out:143k  [      |      ]        Clip:0    \n",
      "Done.\n"
     ]
    }
   ],
   "source": [
    "!play '../../sounds/vibraphone-C6.wav'"
   ]
  },
  {
   "cell_type": "code",
   "execution_count": 96,
   "metadata": {},
   "outputs": [
    {
     "name": "stdout",
     "output_type": "stream",
     "text": [
      "play WARN alsa: can't encode 0-bit Unknown or not applicable\r\n",
      "\r\n",
      "../../workspace/A1/vibraphone-C6_downsampled.wav:\r\n",
      "\r\n",
      " File Size: 18.0k     Bit Rate: 44.2k\r\n",
      "  Encoding: Signed PCM    \r\n",
      "  Channels: 1 @ 16-bit   \r\n",
      "Samplerate: 2756Hz       \r\n",
      "Replaygain: off         \r\n",
      "  Duration: 00:00:03.25  \r\n",
      "\r\n",
      "\r",
      "In:0.00% 00:00:00.00 [00:00:03.25] Out:0     [      |      ]        Clip:0    \r",
      "In:100%  00:00:03.25 [00:00:00.00] Out:8.96k [ -====|====- ]        Clip:0    \r\n",
      "Done.\r\n"
     ]
    }
   ],
   "source": [
    "!play '../../workspace/A1/vibraphone-C6_downsampled.wav' \n"
   ]
  }
 ],
 "metadata": {
  "kernelspec": {
   "display_name": "Python 3",
   "language": "python",
   "name": "python3"
  },
  "language_info": {
   "codemirror_mode": {
    "name": "ipython",
    "version": 3
   },
   "file_extension": ".py",
   "mimetype": "text/x-python",
   "name": "python",
   "nbconvert_exporter": "python",
   "pygments_lexer": "ipython3",
   "version": "3.7.1"
  }
 },
 "nbformat": 4,
 "nbformat_minor": 2
}
